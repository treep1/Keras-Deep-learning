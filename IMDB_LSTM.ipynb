{
  "nbformat": 4,
  "nbformat_minor": 0,
  "metadata": {
    "colab": {
      "name": "IMDB_LSTM",
      "version": "0.3.2",
      "provenance": [],
      "include_colab_link": true
    },
    "kernelspec": {
      "name": "python3",
      "display_name": "Python 3"
    }
  },
  "cells": [
    {
      "cell_type": "markdown",
      "metadata": {
        "id": "view-in-github",
        "colab_type": "text"
      },
      "source": [
        "<a href=\"https://colab.research.google.com/github/treep1/Keras-Deep-learning/blob/master/IMDB_LSTM.ipynb\" target=\"_parent\"><img src=\"https://colab.research.google.com/assets/colab-badge.svg\" alt=\"Open In Colab\"/></a>"
      ]
    },
    {
      "cell_type": "markdown",
      "metadata": {
        "id": "HIfk_6iAwovI",
        "colab_type": "text"
      },
      "source": [
        "#IMDB dataset & CNN + LSTM\n",
        "##IMDB\n",
        "IMDB는 Internet Movie DataBase, 즉 영화리뷰 데이터를 말한다. 총 5만개의 리뷰로 이루어져 있고,  훈련 데이터와 검증데이터를 각각 25000개씩 나누어있고, 각각 50대50의 긍정리뷰와 부정리뷰를 가지고 있다.\n",
        "##LSTM\n",
        "LSTM은 RNNs(Recurrent Neural Networks)의 한종류로, RNNs는 궁극의 인공 신경망 구조라고 주장하는 사람들이 있을 정도로 강력하다.\n",
        "\n",
        "FFNets(일반적인 신경망 구조)처럼 입력 데이터가 은닉층의 모든 노드를 딱 한번씩만 지나게 되고, 전에 수행했던 데이터에 대해서는 기억하지 않는다. \n",
        "\n",
        "하지만 RNNs의 경우에는, feedback구조를 가지고 있고, 사용자의 메모리의 정도에 따라 전에 수행했던 입력했던 데이터의 은닉층 값을 저장하고 있으며, 결국 은닉층 값의 중요도 정도에 따라 (T)시간에 들어오는 입력 데이터 값에, (T-1)시간 때 수행되었던 입력데이터의 은닉층 값이 영향을 미친다.\n",
        "\n",
        "LSTM은 조금 더 발전된 RNNs라고 할 수 있으며, 그라디언트에 관한 이해가 필요하다.\n",
        "\n",
        "그라디언트 안정화 문제 (Vanishing and Exploding Gradients)\n",
        "\n",
        "미분을 통해 기울기를 구할 수 있기 때문에,  X의 작은 변화량에 따른 Y의 변화량의 비율을 나타낼 수 있다. 즉 모든 가중치와 오차의 관계를 구할 수 있다.\n",
        "\n",
        "다시 LSTM으로 돌아와서, LSTM의 유닛은 여러 개의 게이트가 붙어있는 셀(cell)로 이루어진다.\n",
        "여기서 말하는 셀(cell)은 컴퓨터 메모리상의 셀과 비슷한 의미를 가진다.\n",
        "\n",
        "현재의 입력신호와 과거셀의 피드백(feedback)을 입력값에 넣은 뒤, 게이트를 통해 디지털 방식이 아닌 아날로그 방식으로 입력값에 대한 결정을 하게 된다. "
      ]
    },
    {
      "cell_type": "code",
      "metadata": {
        "id": "bhc69xOGC7dH",
        "colab_type": "code",
        "colab": {}
      },
      "source": [
        "from __future__ import absolute_import, division, print_function, unicode_literals\n",
        "\n",
        "import tensorflow as tf\n",
        "from tensorflow import keras\n",
        "from keras.datasets import imdb\n",
        "import numpy as np"
      ],
      "execution_count": 0,
      "outputs": []
    },
    {
      "cell_type": "markdown",
      "metadata": {
        "id": "PKM191-3z9Yr",
        "colab_type": "text"
      },
      "source": [
        "모델링을 하기 전에, 필요한 함수에 대한 import를 수행했다."
      ]
    },
    {
      "cell_type": "code",
      "metadata": {
        "id": "I7AyvsbSDAvk",
        "colab_type": "code",
        "outputId": "799d8cc4-d594-4b26-8a8f-8ce30f7e572e",
        "colab": {
          "base_uri": "https://localhost:8080/",
          "height": 36
        }
      },
      "source": [
        ""
      ],
      "execution_count": 0,
      "outputs": [
        {
          "output_type": "stream",
          "text": [
            "Using Keras version: 2.2.4 backend: tensorflow\n"
          ],
          "name": "stdout"
        }
      ]
    },
    {
      "cell_type": "code",
      "metadata": {
        "id": "XA9mkNVkDQOc",
        "colab_type": "code",
        "colab": {}
      },
      "source": [
        "imdb = keras.datasets.imdb\n",
        "\n",
        "(x_train, y_train), (x_test, y_test) = imdb.load_data(num_words=20000)"
      ],
      "execution_count": 0,
      "outputs": []
    },
    {
      "cell_type": "code",
      "metadata": {
        "id": "gfXCEnQ4IebT",
        "colab_type": "code",
        "colab": {}
      },
      "source": [
        "x_val = x_train[20000:]\n",
        "y_val = y_train[20000:]\n",
        "x_train = x_train[:20000]\n",
        "y_train = y_train[:20000]"
      ],
      "execution_count": 0,
      "outputs": []
    },
    {
      "cell_type": "code",
      "metadata": {
        "id": "OWI4EQ_BKayZ",
        "colab_type": "code",
        "colab": {}
      },
      "source": [
        "x_train = sequence.pad_sequences(x_train, maxlen = 200)\n",
        "x_val = sequence.pad_sequences(x_val, maxlen = 200)\n",
        "x_test = sequence.pad_sequences(x_test, maxlen = 200)"
      ],
      "execution_count": 0,
      "outputs": []
    },
    {
      "cell_type": "code",
      "metadata": {
        "id": "V9PpvgdZK8wy",
        "colab_type": "code",
        "outputId": "858d54c8-2d39-4461-d102-c884436c2684",
        "colab": {
          "base_uri": "https://localhost:8080/",
          "height": 168
        }
      },
      "source": [
        "model = Sequential()\n",
        "model.add(Embedding(20000, 128, input_length = 200))\n",
        "model.add(LSTM(128))\n",
        "model.add(Dense(1, activation = 'sigmoid'))"
      ],
      "execution_count": 0,
      "outputs": [
        {
          "output_type": "stream",
          "text": [
            "WARNING: Logging before flag parsing goes to stderr.\n",
            "W0804 19:48:26.568221 140556038494080 deprecation_wrapper.py:119] From /usr/local/lib/python3.6/dist-packages/keras/backend/tensorflow_backend.py:74: The name tf.get_default_graph is deprecated. Please use tf.compat.v1.get_default_graph instead.\n",
            "\n",
            "W0804 19:48:26.619274 140556038494080 deprecation_wrapper.py:119] From /usr/local/lib/python3.6/dist-packages/keras/backend/tensorflow_backend.py:517: The name tf.placeholder is deprecated. Please use tf.compat.v1.placeholder instead.\n",
            "\n",
            "W0804 19:48:26.630984 140556038494080 deprecation_wrapper.py:119] From /usr/local/lib/python3.6/dist-packages/keras/backend/tensorflow_backend.py:4138: The name tf.random_uniform is deprecated. Please use tf.random.uniform instead.\n",
            "\n"
          ],
          "name": "stderr"
        }
      ]
    },
    {
      "cell_type": "markdown",
      "metadata": {
        "id": "bA9BKIdq1K-m",
        "colab_type": "text"
      },
      "source": [
        "## Embedding\n",
        "\n",
        "범주형 자료를 연속적 벡터에 형태로 변환 시키는 함수로, 단어를 n차원의 벡터로 매핑시킨다.\n",
        "\n",
        "##Sigmoid\n",
        "활성화 함수로써, 0과1 사이의 값을 가지는 비선형 함수이다. \n",
        "Activation Function  =  어떠한 신호를 입력받아 이를 적절한 처리를 통해 출력해주는 함수\n",
        "\n",
        "선형 : 그래프가 직선 형태를 띄고, 함수값이 예측가능하다.\n",
        "\n",
        "비선형 : 함수의 수식이 알려지지 않으면, 함수값을 예측하기 힘들다.\n"
      ]
    },
    {
      "cell_type": "code",
      "metadata": {
        "id": "bDNv_j5oLQvP",
        "colab_type": "code",
        "outputId": "2c3f7d46-2612-4589-ded7-129b525f014a",
        "colab": {
          "base_uri": "https://localhost:8080/",
          "height": 1000
        }
      },
      "source": [
        "model.compile(loss = 'binary_crossentropy', optimizer = 'adam', metrics = ['accuracy'])\n",
        "hist = model.fit(x_train, y_train, epochs = 25, batch_size = 64, validation_data = (x_val, y_val))\n",
        "\n"
      ],
      "execution_count": 19,
      "outputs": [
        {
          "output_type": "stream",
          "text": [
            "W0804 19:50:01.682438 140556038494080 deprecation_wrapper.py:119] From /usr/local/lib/python3.6/dist-packages/keras/optimizers.py:790: The name tf.train.Optimizer is deprecated. Please use tf.compat.v1.train.Optimizer instead.\n",
            "\n",
            "W0804 19:50:01.718889 140556038494080 deprecation_wrapper.py:119] From /usr/local/lib/python3.6/dist-packages/keras/backend/tensorflow_backend.py:3376: The name tf.log is deprecated. Please use tf.math.log instead.\n",
            "\n",
            "W0804 19:50:01.727321 140556038494080 deprecation.py:323] From /usr/local/lib/python3.6/dist-packages/tensorflow/python/ops/nn_impl.py:180: add_dispatch_support.<locals>.wrapper (from tensorflow.python.ops.array_ops) is deprecated and will be removed in a future version.\n",
            "Instructions for updating:\n",
            "Use tf.where in 2.0, which has the same broadcast rule as np.where\n",
            "W0804 19:50:02.625235 140556038494080 deprecation_wrapper.py:119] From /usr/local/lib/python3.6/dist-packages/keras/backend/tensorflow_backend.py:986: The name tf.assign_add is deprecated. Please use tf.compat.v1.assign_add instead.\n",
            "\n"
          ],
          "name": "stderr"
        },
        {
          "output_type": "stream",
          "text": [
            "Train on 20000 samples, validate on 5000 samples\n",
            "Epoch 1/25\n",
            "20000/20000 [==============================] - 152s 8ms/step - loss: 0.4386 - acc: 0.7921 - val_loss: 0.4615 - val_acc: 0.7868\n",
            "Epoch 2/25\n",
            "20000/20000 [==============================] - 151s 8ms/step - loss: 0.2293 - acc: 0.9134 - val_loss: 0.3380 - val_acc: 0.8548\n",
            "Epoch 3/25\n",
            "20000/20000 [==============================] - 151s 8ms/step - loss: 0.1289 - acc: 0.9536 - val_loss: 0.3666 - val_acc: 0.8590\n",
            "Epoch 4/25\n",
            "20000/20000 [==============================] - 153s 8ms/step - loss: 0.0823 - acc: 0.9709 - val_loss: 0.5879 - val_acc: 0.8570\n",
            "Epoch 5/25\n",
            "20000/20000 [==============================] - 159s 8ms/step - loss: 0.0620 - acc: 0.9792 - val_loss: 0.4782 - val_acc: 0.8636\n",
            "Epoch 6/25\n",
            "20000/20000 [==============================] - 151s 8ms/step - loss: 0.0508 - acc: 0.9836 - val_loss: 0.5434 - val_acc: 0.8480\n",
            "Epoch 7/25\n",
            "20000/20000 [==============================] - 151s 8ms/step - loss: 0.0491 - acc: 0.9845 - val_loss: 0.5554 - val_acc: 0.8552\n",
            "Epoch 8/25\n",
            "20000/20000 [==============================] - 150s 8ms/step - loss: 0.0434 - acc: 0.9847 - val_loss: 0.6185 - val_acc: 0.8472\n",
            "Epoch 9/25\n",
            "20000/20000 [==============================] - 150s 8ms/step - loss: 0.0186 - acc: 0.9945 - val_loss: 0.6845 - val_acc: 0.8532\n",
            "Epoch 10/25\n",
            "20000/20000 [==============================] - 150s 8ms/step - loss: 0.0163 - acc: 0.9955 - val_loss: 0.7881 - val_acc: 0.8332\n",
            "Epoch 11/25\n",
            "20000/20000 [==============================] - 150s 7ms/step - loss: 0.0358 - acc: 0.9887 - val_loss: 0.7128 - val_acc: 0.8484\n",
            "Epoch 12/25\n",
            "20000/20000 [==============================] - 150s 8ms/step - loss: 0.0161 - acc: 0.9950 - val_loss: 0.7243 - val_acc: 0.8508\n",
            "Epoch 13/25\n",
            "20000/20000 [==============================] - 196s 10ms/step - loss: 0.0189 - acc: 0.9949 - val_loss: 0.7361 - val_acc: 0.8628\n",
            "Epoch 14/25\n",
            "20000/20000 [==============================] - 314s 16ms/step - loss: 0.0107 - acc: 0.9978 - val_loss: 0.7542 - val_acc: 0.8386\n",
            "Epoch 15/25\n",
            "20000/20000 [==============================] - 312s 16ms/step - loss: 0.0136 - acc: 0.9963 - val_loss: 0.7552 - val_acc: 0.8582\n",
            "Epoch 16/25\n",
            "20000/20000 [==============================] - 322s 16ms/step - loss: 0.0071 - acc: 0.9981 - val_loss: 0.8904 - val_acc: 0.8582\n",
            "Epoch 17/25\n",
            "20000/20000 [==============================] - 338s 17ms/step - loss: 0.0268 - acc: 0.9924 - val_loss: 0.7397 - val_acc: 0.8420\n",
            "Epoch 18/25\n",
            "20000/20000 [==============================] - 487s 24ms/step - loss: 0.0084 - acc: 0.9979 - val_loss: 0.8521 - val_acc: 0.8444\n",
            "Epoch 19/25\n",
            "20000/20000 [==============================] - 496s 25ms/step - loss: 0.0121 - acc: 0.9961 - val_loss: 0.7451 - val_acc: 0.8426\n",
            "Epoch 20/25\n",
            "20000/20000 [==============================] - 494s 25ms/step - loss: 0.0167 - acc: 0.9947 - val_loss: 0.9867 - val_acc: 0.8124\n",
            "Epoch 21/25\n",
            "20000/20000 [==============================] - 491s 25ms/step - loss: 0.0248 - acc: 0.9912 - val_loss: 0.7160 - val_acc: 0.8426\n",
            "Epoch 22/25\n",
            "20000/20000 [==============================] - 492s 25ms/step - loss: 0.0123 - acc: 0.9963 - val_loss: 0.7901 - val_acc: 0.8532\n",
            "Epoch 23/25\n",
            "20000/20000 [==============================] - 490s 24ms/step - loss: 0.0032 - acc: 0.9991 - val_loss: 0.8606 - val_acc: 0.8548\n",
            "Epoch 24/25\n",
            "20000/20000 [==============================] - 495s 25ms/step - loss: 0.0027 - acc: 0.9992 - val_loss: 0.8913 - val_acc: 0.8504\n",
            "Epoch 25/25\n",
            "20000/20000 [==============================] - 367s 18ms/step - loss: 0.0081 - acc: 0.9973 - val_loss: 0.8260 - val_acc: 0.8522\n"
          ],
          "name": "stdout"
        }
      ]
    },
    {
      "cell_type": "code",
      "metadata": {
        "id": "P02LP6_vLn_1",
        "colab_type": "code",
        "colab": {
          "base_uri": "https://localhost:8080/",
          "height": 36
        },
        "outputId": "065be1d2-0fee-4889-826c-ef868b0eff11"
      },
      "source": [
        "result = model.evaluate(x_test, y_test)"
      ],
      "execution_count": 20,
      "outputs": [
        {
          "output_type": "stream",
          "text": [
            "25000/25000 [==============================] - 114s 5ms/step\n"
          ],
          "name": "stdout"
        }
      ]
    },
    {
      "cell_type": "code",
      "metadata": {
        "id": "eEv9DPgznFmE",
        "colab_type": "code",
        "colab": {
          "base_uri": "https://localhost:8080/",
          "height": 92
        },
        "outputId": "7a9afde7-923f-46f8-c338-28f87f733725"
      },
      "source": [
        "print(\"Loss\")\n",
        "print(result[0])\n",
        "print(\"accuracy\")\n",
        "print(result[1])"
      ],
      "execution_count": 21,
      "outputs": [
        {
          "output_type": "stream",
          "text": [
            "Loss\n",
            "0.9147325520762801\n",
            "accuracy\n",
            "0.8438\n"
          ],
          "name": "stdout"
        }
      ]
    },
    {
      "cell_type": "code",
      "metadata": {
        "id": "VDy_ikoenva2",
        "colab_type": "code",
        "colab": {}
      },
      "source": [
        ""
      ],
      "execution_count": 0,
      "outputs": []
    }
  ]
}