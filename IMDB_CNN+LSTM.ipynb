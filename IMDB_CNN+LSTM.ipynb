{
  "nbformat": 4,
  "nbformat_minor": 0,
  "metadata": {
    "colab": {
      "name": "IMDB_CNN+LSTM",
      "version": "0.3.2",
      "provenance": [],
      "include_colab_link": true
    },
    "kernelspec": {
      "name": "python3",
      "display_name": "Python 3"
    }
  },
  "cells": [
    {
      "cell_type": "markdown",
      "metadata": {
        "id": "view-in-github",
        "colab_type": "text"
      },
      "source": [
        "<a href=\"https://colab.research.google.com/github/treep1/Keras-Deep-learning/blob/master/IMDB_CNN%2BLSTM.ipynb\" target=\"_parent\"><img src=\"https://colab.research.google.com/assets/colab-badge.svg\" alt=\"Open In Colab\"/></a>"
      ]
    },
    {
      "cell_type": "markdown",
      "metadata": {
        "id": "4g3h9KZBvRAK",
        "colab_type": "text"
      },
      "source": [
        "#IMDB dataset & CNN + LSTM\n",
        "##IMDB\n",
        "IMDB는 Internet Movie DataBase, 즉 영화리뷰 데이터를 말한다. 총 5만개의 리뷰로 이루어져 있고,  훈련 데이터와 검증데이터를 각각 25000개씩 나누어있고, 각각 50대50의 긍정리뷰와 부정리뷰를 가지고 있다.\n",
        "##CNN + LSTM (RCNN)\n",
        "DCNN이 컴퓨터 비전 문제에서 대단한 역할이다. 하지만 시각에 대한 안정성은 독립적인 것이 아닌 시간에 따라 발생하는 것이기 때문에, 시계열 데이터에 대한 연속적 예측이 필요하므로, 네트워크 구조가 이미지에서 시계열을 인식하도록 설계된 새로운 신경망 모델인 RCNN이 탄생하게 되었다.\n",
        "\n",
        "RCNN은 시계열 label 생성이 가능하고, 단어 인식하는 측면에서 이전의 모델들 보다 훨씬 우수한 성능을 보유하고 있다, 또한 DCNN보다 훨씬 적은 매개변수를 필요로 하기 때문에, 차지하는 저장공간이 줄어들어서 효율적이다.\n",
        "\n"
      ]
    },
    {
      "cell_type": "code",
      "metadata": {
        "id": "Hx1sKfpwTFiI",
        "colab_type": "code",
        "outputId": "eebb1b6d-b2ce-4e19-f2d9-7c13470a9bfe",
        "colab": {
          "base_uri": "https://localhost:8080/",
          "height": 36
        }
      },
      "source": [
        "%matplotlib inline\n",
        "from keras.preprocessing import sequence\n",
        "from keras.models import Sequential\n",
        "from keras.layers import Dense, Dropout, Activation\n",
        "from keras.layers import Embedding\n",
        "from keras.layers import Conv1D, MaxPooling1D, GlobalMaxPooling1D\n",
        "from keras.layers import LSTM\n",
        "from distutils.version import LooseVersion as LV\n",
        "from keras import __version__\n",
        "from keras import backend as K\n",
        "\n",
        "from IPython.display import SVG\n",
        "from keras.utils.vis_utils import model_to_dot\n",
        "\n",
        "import numpy as np\n",
        "import matplotlib.pyplot as plt\n",
        "import seaborn as sns\n",
        "sns.set()\n",
        "\n",
        "print('Using Keras version:', __version__, 'backend:', K.backend())\n",
        "assert(LV(__version__) >= LV(\"2.0.0\"))\n",
        "from __future__ import absolute_import, division, print_function, unicode_literals\n",
        "\n",
        "import tensorflow as tf\n",
        "from tensorflow import keras\n",
        "from keras.datasets import imdb\n",
        "import numpy as np"
      ],
      "execution_count": 0,
      "outputs": [
        {
          "output_type": "stream",
          "text": [
            "Using Keras version: 2.2.4 backend: tensorflow\n"
          ],
          "name": "stdout"
        }
      ]
    },
    {
      "cell_type": "code",
      "metadata": {
        "id": "bAPvF9KQUOJM",
        "colab_type": "code",
        "colab": {}
      },
      "source": [
        "imdb = keras.datasets.imdb\n",
        "\n",
        "(x_train, y_train), (x_test, y_test) = imdb.load_data(num_words=20000)\n",
        "\n"
      ],
      "execution_count": 0,
      "outputs": []
    },
    {
      "cell_type": "code",
      "metadata": {
        "id": "t9Qfvw8MURed",
        "colab_type": "code",
        "colab": {}
      },
      "source": [
        "x_val = x_train[20000:]\n",
        "y_val = y_train[20000:]\n",
        "x_train  = x_train[:20000]\n",
        "y_train = y_train[:20000]\n"
      ],
      "execution_count": 0,
      "outputs": []
    },
    {
      "cell_type": "code",
      "metadata": {
        "id": "Pk7Tct59WavJ",
        "colab_type": "code",
        "colab": {}
      },
      "source": [
        "x_train = sequence.pad_sequences(x_train, maxlen = 200)\n",
        "x_val = sequence.pad_sequences(x_val, maxlen = 200)\n",
        "x_test = sequence.pad_sequences(x_test, maxlen = 200)\n"
      ],
      "execution_count": 0,
      "outputs": []
    },
    {
      "cell_type": "code",
      "metadata": {
        "id": "Kx59JiczWwWU",
        "colab_type": "code",
        "outputId": "fba3c1e4-516c-4d7c-d821-00e4d02596e9",
        "colab": {
          "base_uri": "https://localhost:8080/",
          "height": 75
        }
      },
      "source": [
        "\n",
        "\n",
        "model = Sequential()\n",
        "model.add(Embedding(20000, 128))\n",
        "model.add(Dropout(0.2))\n",
        "model.add(Conv1D(256, 3, padding = 'valid', activation = 'relu', strides = 1))\n",
        "model.add(MaxPooling1D(pool_size = 4))\n",
        "model.add(LSTM(128))\n",
        "model.add(Dense(1, activation = 'sigmoid'))"
      ],
      "execution_count": 0,
      "outputs": [
        {
          "output_type": "stream",
          "text": [
            "W0804 20:42:16.061909 140282382993280 deprecation_wrapper.py:119] From /usr/local/lib/python3.6/dist-packages/keras/backend/tensorflow_backend.py:3976: The name tf.nn.max_pool is deprecated. Please use tf.nn.max_pool2d instead.\n",
            "\n"
          ],
          "name": "stderr"
        }
      ]
    },
    {
      "cell_type": "markdown",
      "metadata": {
        "id": "rRbyuOW-Smyi",
        "colab_type": "text"
      },
      "source": [
        "##Embedding \n",
        "Embedding은 범주형 자료를 연속적 벡터 형태로 변환시키는 것을 말한다.\n",
        "단어를 n차원의 벡터로 매핑시켜준다\n",
        "\n",
        "##Dropout\n",
        " 망의 크기가 커질 경우, Overfitting의 문제를 해결하기 위해서, 망에 있는 모든 layer를 학습 시키는 것이 아닌, 같은 망에 있는 입력 레이어나 히든 레이어의 일부 뉴런을 생략하고 줄여 효율적인 신경망 학습을 수행하도록 해준다.\n",
        "##Conv1D\n",
        "합성곱(Convolution) 연산을 수행하는 역할을 한다.\n",
        "1차원 상에서 CNN의 중요 레이어중 하나인 Convolutional 레이어의 연산을 수행해준다.\n",
        "##MaxPooling1D\n",
        "Pooling이란, Conv연산을 거쳐서 나온 activation maps가 있을 때, 이를 이루는 Conv 레이어를 resizing하여 새로운 레이어를 얻는다. \n",
        "MaxPooling은 최댓값을 뽑아내준다.\n",
        "\n",
        "##LSTM\n",
        "LSTM 유닛은 셀과 게이트로 이루어져있고, 셀은 셀의 연결된 게이트 값을 바탕으로 무엇을 저장할 지, 언제 정보를 보낼지, 언제쓰고 언제 지울지를 결정한다.LSTM은 음악의 다양한 리듬, 글의 다양한 주제, 주식시장의 각종 요인등 여러가지 요인들을 잘 잡아낸다."
      ]
    },
    {
      "cell_type": "code",
      "metadata": {
        "id": "h2geRn-BXb3x",
        "colab_type": "code",
        "outputId": "068c9d79-0a48-4db2-a4c8-f7a0bf342826",
        "colab": {
          "base_uri": "https://localhost:8080/",
          "height": 1000
        }
      },
      "source": [
        "model.compile(loss = 'binary_crossentropy', optimizer = 'adam', metrics=['accuracy'])\n",
        "\n",
        "hist = model.fit(x_train, y_train, epochs = 25, batch_size = 64, validation_data = (x_val, y_val))"
      ],
      "execution_count": 18,
      "outputs": [
        {
          "output_type": "stream",
          "text": [
            "W0804 20:43:54.664704 140282382993280 deprecation_wrapper.py:119] From /usr/local/lib/python3.6/dist-packages/keras/optimizers.py:790: The name tf.train.Optimizer is deprecated. Please use tf.compat.v1.train.Optimizer instead.\n",
            "\n",
            "W0804 20:43:54.770994 140282382993280 deprecation_wrapper.py:119] From /usr/local/lib/python3.6/dist-packages/keras/backend/tensorflow_backend.py:3376: The name tf.log is deprecated. Please use tf.math.log instead.\n",
            "\n",
            "W0804 20:43:54.795260 140282382993280 deprecation.py:323] From /usr/local/lib/python3.6/dist-packages/tensorflow/python/ops/nn_impl.py:180: add_dispatch_support.<locals>.wrapper (from tensorflow.python.ops.array_ops) is deprecated and will be removed in a future version.\n",
            "Instructions for updating:\n",
            "Use tf.where in 2.0, which has the same broadcast rule as np.where\n"
          ],
          "name": "stderr"
        },
        {
          "output_type": "stream",
          "text": [
            "Train on 20000 samples, validate on 5000 samples\n",
            "Epoch 1/25\n",
            "20000/20000 [==============================] - 366s 18ms/step - loss: 0.3961 - acc: 0.8086 - val_loss: 0.2961 - val_acc: 0.8752\n",
            "Epoch 2/25\n",
            "20000/20000 [==============================] - 358s 18ms/step - loss: 0.1840 - acc: 0.9319 - val_loss: 0.3041 - val_acc: 0.8772\n",
            "Epoch 3/25\n",
            "20000/20000 [==============================] - 366s 18ms/step - loss: 0.0905 - acc: 0.9695 - val_loss: 0.3698 - val_acc: 0.8654\n",
            "Epoch 4/25\n",
            "20000/20000 [==============================] - 362s 18ms/step - loss: 0.0504 - acc: 0.9839 - val_loss: 0.4589 - val_acc: 0.8680\n",
            "Epoch 5/25\n",
            "20000/20000 [==============================] - 363s 18ms/step - loss: 0.0282 - acc: 0.9908 - val_loss: 0.5157 - val_acc: 0.8622\n",
            "Epoch 6/25\n",
            "20000/20000 [==============================] - 365s 18ms/step - loss: 0.0241 - acc: 0.9922 - val_loss: 0.5247 - val_acc: 0.8474\n",
            "Epoch 7/25\n",
            "20000/20000 [==============================] - 363s 18ms/step - loss: 0.0214 - acc: 0.9936 - val_loss: 0.5887 - val_acc: 0.8626\n",
            "Epoch 8/25\n",
            "20000/20000 [==============================] - 364s 18ms/step - loss: 0.0143 - acc: 0.9955 - val_loss: 0.6417 - val_acc: 0.8564\n",
            "Epoch 9/25\n",
            "20000/20000 [==============================] - 362s 18ms/step - loss: 0.0134 - acc: 0.9955 - val_loss: 0.7078 - val_acc: 0.8590\n",
            "Epoch 10/25\n",
            "20000/20000 [==============================] - 364s 18ms/step - loss: 0.0110 - acc: 0.9967 - val_loss: 0.7524 - val_acc: 0.8554\n",
            "Epoch 11/25\n",
            "20000/20000 [==============================] - 239s 12ms/step - loss: 0.0111 - acc: 0.9965 - val_loss: 0.6697 - val_acc: 0.8614\n",
            "Epoch 12/25\n",
            "20000/20000 [==============================] - 182s 9ms/step - loss: 0.0048 - acc: 0.9986 - val_loss: 0.9214 - val_acc: 0.8622\n",
            "Epoch 13/25\n",
            "20000/20000 [==============================] - 132s 7ms/step - loss: 0.0121 - acc: 0.9959 - val_loss: 0.6997 - val_acc: 0.8584\n",
            "Epoch 14/25\n",
            "20000/20000 [==============================] - 122s 6ms/step - loss: 0.0067 - acc: 0.9979 - val_loss: 0.8254 - val_acc: 0.8606\n",
            "Epoch 15/25\n",
            "20000/20000 [==============================] - 122s 6ms/step - loss: 0.0090 - acc: 0.9968 - val_loss: 0.8164 - val_acc: 0.8628\n",
            "Epoch 16/25\n",
            "20000/20000 [==============================] - 121s 6ms/step - loss: 0.0096 - acc: 0.9970 - val_loss: 0.7531 - val_acc: 0.8552\n",
            "Epoch 17/25\n",
            "20000/20000 [==============================] - 122s 6ms/step - loss: 0.0030 - acc: 0.9990 - val_loss: 0.9246 - val_acc: 0.8570\n",
            "Epoch 18/25\n",
            "20000/20000 [==============================] - 122s 6ms/step - loss: 0.0076 - acc: 0.9974 - val_loss: 0.8335 - val_acc: 0.8586\n",
            "Epoch 19/25\n",
            "20000/20000 [==============================] - 122s 6ms/step - loss: 0.0060 - acc: 0.9980 - val_loss: 1.0543 - val_acc: 0.8312\n",
            "Epoch 20/25\n",
            "20000/20000 [==============================] - 122s 6ms/step - loss: 0.0080 - acc: 0.9972 - val_loss: 0.9663 - val_acc: 0.8472\n",
            "Epoch 21/25\n",
            "20000/20000 [==============================] - 121s 6ms/step - loss: 0.0053 - acc: 0.9981 - val_loss: 0.8967 - val_acc: 0.8558\n",
            "Epoch 22/25\n",
            "20000/20000 [==============================] - 122s 6ms/step - loss: 0.0023 - acc: 0.9991 - val_loss: 0.9191 - val_acc: 0.8558\n",
            "Epoch 23/25\n",
            "20000/20000 [==============================] - 121s 6ms/step - loss: 0.0020 - acc: 0.9993 - val_loss: 0.9873 - val_acc: 0.8560\n",
            "Epoch 24/25\n",
            "20000/20000 [==============================] - 121s 6ms/step - loss: 0.0051 - acc: 0.9982 - val_loss: 0.9563 - val_acc: 0.8550\n",
            "Epoch 25/25\n",
            "20000/20000 [==============================] - 122s 6ms/step - loss: 0.0034 - acc: 0.9987 - val_loss: 0.8447 - val_acc: 0.8546\n"
          ],
          "name": "stdout"
        }
      ]
    },
    {
      "cell_type": "code",
      "metadata": {
        "id": "ndzul1xGX9Tr",
        "colab_type": "code",
        "colab": {
          "base_uri": "https://localhost:8080/",
          "height": 36
        },
        "outputId": "215c5036-7ef9-411d-b86e-cbc13b1f704e"
      },
      "source": [
        "result = model.evaluate(x_test, y_test)\n",
        "\n"
      ],
      "execution_count": 19,
      "outputs": [
        {
          "output_type": "stream",
          "text": [
            "25000/25000 [==============================] - 35s 1ms/step\n"
          ],
          "name": "stdout"
        }
      ]
    },
    {
      "cell_type": "code",
      "metadata": {
        "id": "Wa3walRruwro",
        "colab_type": "code",
        "colab": {
          "base_uri": "https://localhost:8080/",
          "height": 92
        },
        "outputId": "6ec927e4-6835-4766-ce18-4f402720a9be"
      },
      "source": [
        "print(\"loss\")\n",
        "print(result[0])\n",
        "print(\"accuracy\")\n",
        "print(result[1])\n"
      ],
      "execution_count": 20,
      "outputs": [
        {
          "output_type": "stream",
          "text": [
            "loss\n",
            "0.9573472526168824\n",
            "accuracy\n",
            "0.83392\n"
          ],
          "name": "stdout"
        }
      ]
    },
    {
      "cell_type": "code",
      "metadata": {
        "id": "RXxEEhyyvBGz",
        "colab_type": "code",
        "colab": {
          "base_uri": "https://localhost:8080/",
          "height": 291
        },
        "outputId": "6284f1cc-8097-48bf-b70a-cc687a78dda9"
      },
      "source": [
        "\n",
        "\n",
        "fig, loss_ax = plt.subplots()\n",
        "\n",
        "acc_ax = loss_ax.twinx()\n",
        "\n",
        "loss_ax.plot(hist.history['loss'], 'k', label='train loss')\n",
        "loss_ax.plot(hist.history['val_loss'], 'g', label='val loss')\n",
        "loss_ax.set_ylim([-0.2, 1.2])\n",
        "\n",
        "acc_ax.plot(hist.history['acc'], 'y', label='train acc')\n",
        "acc_ax.plot(hist.history['val_acc'], 'b', label='val acc')\n",
        "acc_ax.set_ylim([-0.2, 1.2])\n",
        "\n",
        "loss_ax.set_xlabel('epoch')\n",
        "loss_ax.set_ylabel('loss')\n",
        "acc_ax.set_ylabel('accuray')\n",
        "\n",
        "loss_ax.legend(loc='upper left')\n",
        "acc_ax.legend(loc='lower left')\n",
        "\n",
        "plt.show()"
      ],
      "execution_count": 41,
      "outputs": [
        {
          "output_type": "display_data",
          "data": {
            "image/png": "[encoded data removed]",
            "text/plain": [
              "<Figure size 432x288 with 2 Axes>"
            ]
          },
          "metadata": {
            "tags": []
          }
        }
      ]
    },
    {
      "cell_type": "code",
      "metadata": {
        "id": "mWKatNWHKDCp",
        "colab_type": "code",
        "colab": {}
      },
      "source": [
        ""
      ],
      "execution_count": 0,
      "outputs": []
    }
  ]
}