{
  "nbformat": 4,
  "nbformat_minor": 0,
  "metadata": {
    "colab": {
      "name": "IMDB_CNN",
      "version": "0.3.2",
      "provenance": [],
      "include_colab_link": true
    },
    "kernelspec": {
      "name": "python3",
      "display_name": "Python 3"
    }
  },
  "cells": [
    {
      "cell_type": "markdown",
      "metadata": {
        "id": "view-in-github",
        "colab_type": "text"
      },
      "source": [
        "<a href=\"https://colab.research.google.com/github/treep1/Keras-Deep-learning/blob/master/IMDB_CNN.ipynb\" target=\"_parent\"><img src=\"https://colab.research.google.com/assets/colab-badge.svg\" alt=\"Open In Colab\"/></a>"
      ]
    },
    {
      "cell_type": "markdown",
      "metadata": {
        "id": "W27qxkVWwi12",
        "colab_type": "text"
      },
      "source": [
        "#IMDB dataset & CNN\n",
        "##IMDB\n",
        "IMDB는 Internet Movie DataBase, 즉 영화리뷰 데이터를 말한다. 총 5만개의 리뷰로 이루어져 있고,  훈련 데이터와 검증데이터를 각각 25000개씩 나누어있고, 각각 50대50의 긍정리뷰와 부정리뷰를 가지고 있다.\n",
        "##CNN (Conventional Neural Networks)\n",
        "일반신경망과 비슷한 구조를 가지고 있지만, 입력데이터가 이미지라는 가정하에 수행되므로, 이미지 데이터를 인코딩할 수 있다. ConvNet의 각 레이어는 미분가능한 변환함수를 통해 하나의 Activation Volume을 또다른 Activation Volume으로 변환 시켜준다. 크게 Convolution layer, Pooling layer, Fully-Connected layer -> 3개의 레이어가 사용된다.\n",
        "\n",
        "픽셀값으로 이루어진 원본이미지를 각 레이어를 거치며 클래스 점수로 변환한다.\n",
        "\n",
        "\n",
        "그리고 어떤 레이어는 parameter들을 가지고 있지만, 또 어떤 레이어는 parameter 값을 가지고 있지 않다.\n"
      ]
    },
    {
      "cell_type": "code",
      "metadata": {
        "id": "zD40u1HONwHy",
        "colab_type": "code",
        "colab": {
          "base_uri": "https://localhost:8080/",
          "height": 36
        },
        "outputId": "c013afe1-c613-4718-bb2a-84035fe5ed9b"
      },
      "source": [
        "%matplotlib inline\n",
        "from keras.preprocessing import sequence\n",
        "from keras.models import Sequential\n",
        "from keras.layers import Dense, Dropout, Activation\n",
        "from keras.layers import Embedding\n",
        "from keras.layers import Conv1D, MaxPooling1D, GlobalMaxPooling1D\n",
        "from keras.layers import LSTM\n",
        "from distutils.version import LooseVersion as LV\n",
        "from keras import __version__\n",
        "from keras import backend as K\n",
        "\n",
        "from IPython.display import SVG\n",
        "from keras.utils.vis_utils import model_to_dot\n",
        "\n",
        "import numpy as np\n",
        "import matplotlib.pyplot as plt\n",
        "import seaborn as sns\n",
        "sns.set()\n",
        "\n",
        "print('Using Keras version:', __version__, 'backend:', K.backend())\n",
        "assert(LV(__version__) >= LV(\"2.0.0\"))\n",
        "from __future__ import absolute_import, division, print_function, unicode_literals\n",
        "\n",
        "import tensorflow as tf\n",
        "from tensorflow import keras\n",
        "from keras.datasets import imdb\n",
        "import numpy as np"
      ],
      "execution_count": 19,
      "outputs": [
        {
          "output_type": "stream",
          "text": [
            "Using Keras version: 2.2.4 backend: tensorflow\n"
          ],
          "name": "stdout"
        }
      ]
    },
    {
      "cell_type": "code",
      "metadata": {
        "id": "4wusSwdvN2i-",
        "colab_type": "code",
        "colab": {}
      },
      "source": [
        "imdb = keras.datasets.imdb\n",
        "\n",
        "(x_train, y_train), (x_test, y_test) = imdb.load_data(num_words=20000)\n",
        "\n",
        "x_val = x_train[20000:]\n",
        "y_val = y_train[20000:]\n",
        "x_train = x_train[:20000]\n",
        "y_train = y_train[:20000]\n"
      ],
      "execution_count": 0,
      "outputs": []
    },
    {
      "cell_type": "code",
      "metadata": {
        "id": "7e4YwYV1OBG5",
        "colab_type": "code",
        "colab": {}
      },
      "source": [
        "x_train = sequence.pad_sequences(x_train, maxlen = 200)\n",
        "x_val = sequence.pad_sequences(x_val, maxlen = 200)\n",
        "x_test = sequence.pad_sequences(x_test, maxlen = 200)"
      ],
      "execution_count": 0,
      "outputs": []
    },
    {
      "cell_type": "code",
      "metadata": {
        "id": "hD4dzD_SOyk7",
        "colab_type": "code",
        "colab": {}
      },
      "source": [
        "from keras.models import Sequential\n",
        "from keras.layers import Embedding\n",
        "from keras.layers import Dropout\n",
        "from keras.layers import Conv1D\n",
        "from keras.layers import GlobalMaxPooling1D\n",
        "from keras.layers import Dense\n",
        "\n",
        "model = Sequential()\n",
        "model.add (Embedding(20000, 128 ))\n",
        "model.add(Dropout(0.2))\n",
        "model.add(Conv1D(256, 3, padding = 'valid', activation = 'relu', strides =1))\n",
        "model.add(GlobalMaxPooling1D())\n",
        "model.add(Dense(128, activation = 'relu'))\n",
        "model.add(Dropout(0.2))\n",
        "model.add(Dense(1, activation = 'sigmoid'))"
      ],
      "execution_count": 0,
      "outputs": []
    },
    {
      "cell_type": "markdown",
      "metadata": {
        "id": "sLdj1yIJQgQ1",
        "colab_type": "text"
      },
      "source": [
        "##Embedding\n",
        "범주형 자료를 연속적 벡터 형태로 변환시키는 함수\n",
        "\n",
        "단어를 n차원의 벡터에 매핑해준다.\n",
        "\n",
        "##Dropout\n",
        "\n",
        "망의 크기가 커질 경우, Overfitting의 문제를 피하기 위해서, 망에 있는 모든 레이어에 대해 학습을 수행하는 것이 아닌, 같은 망에 있는 입력 레이어나 히든레이어의 일부 뉴런을 생략하고 줄인 신경망으로 학습이 수월하게 해준다. \n",
        "\n",
        "##Conv1D\n",
        "합성곱(Convolution) 연산을 수행하는 역할을 한다. \n",
        "\n",
        "1차원 상에서 CNN의 중요 레이어중 하나인 Convolutional 레이어의 연산을 수행해준다.\n",
        "\n",
        "##GlobalMaxPooling1D\n",
        "\n",
        "Pooling이란, Convolution을 거쳐서 나온 Activation maps가 있을 때, 이를 이루는 Convolution 레이어를 resizing 하여 새로운 레이어를 얻는 과정이다.\n",
        "MaxPooling은 최댓값을 뽑아내는 것을 의미한다.\n"
      ]
    },
    {
      "cell_type": "code",
      "metadata": {
        "id": "8hEZf1FKPvGZ",
        "colab_type": "code",
        "outputId": "aadae42d-c5ea-4ba1-84d5-7515510043bf",
        "colab": {
          "base_uri": "https://localhost:8080/",
          "height": 1000
        }
      },
      "source": [
        "model.compile(loss = 'binary_crossentropy', optimizer = 'adam', metrics = ['accuracy'])\n",
        "hist = model.fit(x_train, y_train, epochs = 25, batch_size = 64, validation_data = (x_val, y_val))"
      ],
      "execution_count": 18,
      "outputs": [
        {
          "output_type": "stream",
          "text": [
            "W0804 20:22:06.079151 140698910189440 deprecation_wrapper.py:119] From /usr/local/lib/python3.6/dist-packages/keras/optimizers.py:790: The name tf.train.Optimizer is deprecated. Please use tf.compat.v1.train.Optimizer instead.\n",
            "\n",
            "W0804 20:22:06.153527 140698910189440 deprecation_wrapper.py:119] From /usr/local/lib/python3.6/dist-packages/keras/backend/tensorflow_backend.py:3376: The name tf.log is deprecated. Please use tf.math.log instead.\n",
            "\n",
            "W0804 20:22:06.177859 140698910189440 deprecation.py:323] From /usr/local/lib/python3.6/dist-packages/tensorflow/python/ops/nn_impl.py:180: add_dispatch_support.<locals>.wrapper (from tensorflow.python.ops.array_ops) is deprecated and will be removed in a future version.\n",
            "Instructions for updating:\n",
            "Use tf.where in 2.0, which has the same broadcast rule as np.where\n"
          ],
          "name": "stderr"
        },
        {
          "output_type": "stream",
          "text": [
            "Train on 20000 samples, validate on 5000 samples\n",
            "Epoch 1/25\n",
            "20000/20000 [==============================] - 149s 7ms/step - loss: 0.4514 - acc: 0.7703 - val_loss: 0.2899 - val_acc: 0.8752\n",
            "Epoch 2/25\n",
            "20000/20000 [==============================] - 146s 7ms/step - loss: 0.2119 - acc: 0.9184 - val_loss: 0.2671 - val_acc: 0.8898\n",
            "Epoch 3/25\n",
            "20000/20000 [==============================] - 151s 8ms/step - loss: 0.0817 - acc: 0.9735 - val_loss: 0.2948 - val_acc: 0.8898\n",
            "Epoch 4/25\n",
            "20000/20000 [==============================] - 147s 7ms/step - loss: 0.0203 - acc: 0.9958 - val_loss: 0.3683 - val_acc: 0.8906\n",
            "Epoch 5/25\n",
            "20000/20000 [==============================] - 147s 7ms/step - loss: 0.0054 - acc: 0.9993 - val_loss: 0.4024 - val_acc: 0.8898\n",
            "Epoch 6/25\n",
            "20000/20000 [==============================] - 156s 8ms/step - loss: 0.0020 - acc: 0.9999 - val_loss: 0.4609 - val_acc: 0.8874\n",
            "Epoch 7/25\n",
            "20000/20000 [==============================] - 148s 7ms/step - loss: 0.0011 - acc: 0.9999 - val_loss: 0.4688 - val_acc: 0.8934\n",
            "Epoch 8/25\n",
            "20000/20000 [==============================] - 147s 7ms/step - loss: 5.6201e-04 - acc: 1.0000 - val_loss: 0.4844 - val_acc: 0.8924\n",
            "Epoch 9/25\n",
            "20000/20000 [==============================] - 161s 8ms/step - loss: 4.8922e-04 - acc: 0.9999 - val_loss: 0.4983 - val_acc: 0.8928\n",
            "Epoch 10/25\n",
            "20000/20000 [==============================] - 224s 11ms/step - loss: 3.3220e-04 - acc: 1.0000 - val_loss: 0.5212 - val_acc: 0.8928\n",
            "Epoch 11/25\n",
            "20000/20000 [==============================] - 222s 11ms/step - loss: 0.0019 - acc: 0.9994 - val_loss: 0.5357 - val_acc: 0.8850\n",
            "Epoch 12/25\n",
            "20000/20000 [==============================] - 225s 11ms/step - loss: 0.0372 - acc: 0.9859 - val_loss: 0.5588 - val_acc: 0.8796\n",
            "Epoch 13/25\n",
            "20000/20000 [==============================] - 222s 11ms/step - loss: 0.0215 - acc: 0.9919 - val_loss: 0.6224 - val_acc: 0.8778\n",
            "Epoch 14/25\n",
            "20000/20000 [==============================] - 232s 12ms/step - loss: 0.0072 - acc: 0.9970 - val_loss: 0.6235 - val_acc: 0.8822\n",
            "Epoch 15/25\n",
            "20000/20000 [==============================] - 227s 11ms/step - loss: 0.0019 - acc: 0.9994 - val_loss: 0.7236 - val_acc: 0.8746\n",
            "Epoch 16/25\n",
            "20000/20000 [==============================] - 226s 11ms/step - loss: 0.0026 - acc: 0.9990 - val_loss: 0.7313 - val_acc: 0.8808\n",
            "Epoch 17/25\n",
            "20000/20000 [==============================] - 226s 11ms/step - loss: 0.0027 - acc: 0.9992 - val_loss: 0.6980 - val_acc: 0.8780\n",
            "Epoch 18/25\n",
            "20000/20000 [==============================] - 227s 11ms/step - loss: 5.0740e-04 - acc: 0.9999 - val_loss: 0.7540 - val_acc: 0.8830\n",
            "Epoch 19/25\n",
            "20000/20000 [==============================] - 226s 11ms/step - loss: 3.5548e-04 - acc: 0.9999 - val_loss: 0.7686 - val_acc: 0.8818\n",
            "Epoch 20/25\n",
            "20000/20000 [==============================] - 226s 11ms/step - loss: 5.0340e-04 - acc: 0.9998 - val_loss: 0.7677 - val_acc: 0.8798\n",
            "Epoch 21/25\n",
            "20000/20000 [==============================] - 227s 11ms/step - loss: 0.0031 - acc: 0.9988 - val_loss: 0.8479 - val_acc: 0.8742\n",
            "Epoch 22/25\n",
            "20000/20000 [==============================] - 226s 11ms/step - loss: 0.0090 - acc: 0.9971 - val_loss: 0.6994 - val_acc: 0.8800\n",
            "Epoch 23/25\n",
            "20000/20000 [==============================] - 227s 11ms/step - loss: 0.0059 - acc: 0.9978 - val_loss: 0.7771 - val_acc: 0.8746\n",
            "Epoch 24/25\n",
            "20000/20000 [==============================] - 227s 11ms/step - loss: 0.0053 - acc: 0.9979 - val_loss: 0.8803 - val_acc: 0.8642\n",
            "Epoch 25/25\n",
            "20000/20000 [==============================] - 228s 11ms/step - loss: 0.0024 - acc: 0.9991 - val_loss: 0.8284 - val_acc: 0.8782\n"
          ],
          "name": "stdout"
        }
      ]
    },
    {
      "cell_type": "code",
      "metadata": {
        "id": "JfqsW6zMS9z_",
        "colab_type": "code",
        "colab": {
          "base_uri": "https://localhost:8080/",
          "height": 36
        },
        "outputId": "a6b0d259-0107-494a-8498-310f9608139e"
      },
      "source": [
        "result = model.evaluate(x_test, y_test)"
      ],
      "execution_count": 20,
      "outputs": [
        {
          "output_type": "stream",
          "text": [
            "25000/25000 [==============================] - 65s 3ms/step\n"
          ],
          "name": "stdout"
        }
      ]
    },
    {
      "cell_type": "code",
      "metadata": {
        "id": "wRzhB2w-nLBn",
        "colab_type": "code",
        "colab": {
          "base_uri": "https://localhost:8080/",
          "height": 92
        },
        "outputId": "82e38a69-a968-45c8-ace8-dc84f165456d"
      },
      "source": [
        "print(\"Loss\")\n",
        "print(result[0])\n",
        "print(\"accuracy\")\n",
        "print(result[1])"
      ],
      "execution_count": 28,
      "outputs": [
        {
          "output_type": "stream",
          "text": [
            "Loss\n",
            "0.8828269399294629\n",
            "accuracy\n",
            "0.86992\n"
          ],
          "name": "stdout"
        }
      ]
    },
    {
      "cell_type": "code",
      "metadata": {
        "id": "b5axzvhNJqMq",
        "colab_type": "code",
        "colab": {
          "base_uri": "https://localhost:8080/",
          "height": 291
        },
        "outputId": "ee01df4c-01de-4048-9b86-899afc53e84f"
      },
      "source": [
        "\n",
        "\n",
        "fig, loss_ax = plt.subplots()\n",
        "\n",
        "acc_ax = loss_ax.twinx()\n",
        "\n",
        "loss_ax.plot(hist.history['loss'], 'k', label='train loss')\n",
        "loss_ax.plot(hist.history['val_loss'], 'g', label='val loss')\n",
        "loss_ax.set_ylim([-0.2, 1.2])\n",
        "\n",
        "acc_ax.plot(hist.history['acc'], 'y', label='train acc')\n",
        "acc_ax.plot(hist.history['val_acc'], 'b', label='val acc')\n",
        "acc_ax.set_ylim([-0.2, 1.2])\n",
        "\n",
        "loss_ax.set_xlabel('epoch')\n",
        "loss_ax.set_ylabel('loss')\n",
        "acc_ax.set_ylabel('accuray')\n",
        "\n",
        "loss_ax.legend(loc='upper left')\n",
        "acc_ax.legend(loc='lower left')\n",
        "\n",
        "plt.show()"
      ],
      "execution_count": 33,
      "outputs": [
        {
          "output_type": "display_data",
          "data": {
            "image/png": "[encoded data removed]",
            "text/plain": [
              "<Figure size 432x288 with 2 Axes>"
            ]
          },
          "metadata": {
            "tags": []
          }
        }
      ]
    },
    {
      "cell_type": "code",
      "metadata": {
        "id": "32wI5-y1JqpE",
        "colab_type": "code",
        "colab": {
          "base_uri": "https://localhost:8080/",
          "height": 36
        },
        "outputId": "73a0da4d-2a56-4c1e-8e83-7d3d66b944b7"
      },
      "source": [
        ""
      ],
      "execution_count": 30,
      "outputs": [
        {
          "output_type": "execute_result",
          "data": {
            "text/plain": [
              "Text(408.875, 0.5, 'accuray')"
            ]
          },
          "metadata": {
            "tags": []
          },
          "execution_count": 30
        }
      ]
    },
    {
      "cell_type": "code",
      "metadata": {
        "id": "CeM-TBe7JvQS",
        "colab_type": "code",
        "colab": {}
      },
      "source": [
        ""
      ],
      "execution_count": 0,
      "outputs": []
    }
  ]
}