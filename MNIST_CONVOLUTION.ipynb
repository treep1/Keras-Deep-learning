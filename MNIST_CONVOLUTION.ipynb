{
  "nbformat": 4,
  "nbformat_minor": 0,
  "metadata": {
    "colab": {
      "name": "MNIST_CONVOLUTION",
      "version": "0.3.2",
      "provenance": [],
      "include_colab_link": true
    },
    "kernelspec": {
      "name": "python3",
      "display_name": "Python 3"
    }
  },
  "cells": [
    {
      "cell_type": "markdown",
      "metadata": {
        "id": "view-in-github",
        "colab_type": "text"
      },
      "source": [
        "<a href=\"https://colab.research.google.com/github/treep1/Keras-Deep-learning/blob/master/MNIST_CONVOLUTION.ipynb\" target=\"_parent\"><img src=\"https://colab.research.google.com/assets/colab-badge.svg\" alt=\"Open In Colab\"/></a>"
      ]
    },
    {
      "cell_type": "code",
      "metadata": {
        "id": "_y9FPENUB07a",
        "colab_type": "code",
        "colab": {
          "base_uri": "https://localhost:8080/",
          "height": 224
        },
        "outputId": "040dd373-1cac-4246-fb37-762a9c939f98"
      },
      "source": [
        "from keras import layers\n",
        "from keras import models\n",
        "\n",
        "model = models.Sequential()\n",
        "model.add(layers.Conv2D(32, (3, 3), activation='relu', input_shape=(28, 28, 1)))\n",
        "model.add(layers.MaxPooling2D((2, 2)))\n",
        "model.add(layers.Conv2D(64, (3, 3), activation='relu'))\n",
        "model.add(layers.MaxPooling2D((2, 2)))\n",
        "model.add(layers.Conv2D(64, (3, 3), activation='relu'))"
      ],
      "execution_count": 2,
      "outputs": [
        {
          "output_type": "stream",
          "text": [
            "Using TensorFlow backend.\n",
            "WARNING: Logging before flag parsing goes to stderr.\n",
            "W0810 15:00:04.013575 139813045577600 deprecation_wrapper.py:119] From /usr/local/lib/python3.6/dist-packages/keras/backend/tensorflow_backend.py:74: The name tf.get_default_graph is deprecated. Please use tf.compat.v1.get_default_graph instead.\n",
            "\n",
            "W0810 15:00:04.030860 139813045577600 deprecation_wrapper.py:119] From /usr/local/lib/python3.6/dist-packages/keras/backend/tensorflow_backend.py:517: The name tf.placeholder is deprecated. Please use tf.compat.v1.placeholder instead.\n",
            "\n",
            "W0810 15:00:04.034453 139813045577600 deprecation_wrapper.py:119] From /usr/local/lib/python3.6/dist-packages/keras/backend/tensorflow_backend.py:4138: The name tf.random_uniform is deprecated. Please use tf.random.uniform instead.\n",
            "\n",
            "W0810 15:00:04.056470 139813045577600 deprecation_wrapper.py:119] From /usr/local/lib/python3.6/dist-packages/keras/backend/tensorflow_backend.py:3976: The name tf.nn.max_pool is deprecated. Please use tf.nn.max_pool2d instead.\n",
            "\n"
          ],
          "name": "stderr"
        }
      ]
    },
    {
      "cell_type": "markdown",
      "metadata": {
        "id": "MS8TRG26WNPX",
        "colab_type": "text"
      },
      "source": [
        "##컨볼루션 신경망 레이어\n",
        "다른 신경망과는 다르게 , 합성곱을 이용하여 3차원까지 처리를 할 수 있기 때문에, 공간적정보를 활용할 수 있다. 사람의 시신경 구조를 모방한 구조로, 기존의 방식은 데이터에서 지식 추출을 통해 학습이 이루어졌지만, CNN은 데이터의 특징과 차원을 추출하여 각 특징들의 패턴을 파악하는 구조이다. CNN 알고리즘은 Convolution 과 Pooling을 통해 진행된다. 주로 정보추출, 문장분류, 얼굴인식에 사용된다. \n",
        "\n",
        "\n",
        "주로 Conv => ReLU => MaxPooling 의 흐름을 이용한다. 컨볼루션 신경망 레이어에서는 padding, strides등 CNN만 가지고 있는 변수를 가지고 있다. \n",
        "\n",
        "Padding : 경계 처리 방법을 정의하고 있다\n",
        "  \n",
        "  ->Valid : 유효한 영역만 출력된다\n",
        "  \n",
        "  -> Same : 출력 이미지 사이즈가 입력 사이즈와 동일\n",
        " \n",
        "## 합성곱의 과정\n",
        " -> 데이터의 특징을 추출해내는 과정으로, 데이터의 각 성분의 주변 성분들의 특징을 파악한다. 하나의 압축과정이라고 할 수 있다. 필터와 활성화 함수로 이루어지고, 필터는 특징을 추출해내고, 활성화 함수를 통해 비선형 값으로 수치화 해준다. 이를 통해 필터과정을 거친 데이터가 1과 0으로 수치화 될 수 있다.\n",
        "  \n",
        "  ## Pooling 과정\n",
        " \n",
        " -> 합성곱과정을 거친 layer의 사이즈를 줄여주는 과정이다. Strides와 Pooling의 행과 열 크기를 기반으로 단순히 데이터 사이즈를 줄여주는 과정이고, 노이즈를 상쇄시키고, 미세한 부분에서 일관적인 특징을 제공한다. \n",
        " \n",
        " ## Conv2D\n",
        " 컨볼루션 필터의 수, 컨볼루션 커널의 행과열, padding, 입력 형태 (행, 열, 채널(흑백 :1 영상 : 3))\n",
        " 등의 인자값을 받는다.\n",
        " \n",
        " ## MaxPooling2D\n",
        " PoolSize를 지정해준 뒤, Strides의 값을 기반으로 그 값만큼 이동한다. 위에서 설명한 Pooling중에서도, 최댓값을 뽑아내는 MaxPooling을 사용하고 있고, 사소한 변화에 집중하기 보다는 부각되는 곳에 집중하게 해준다.\n",
        " \n",
        " \n",
        "\n",
        "  \n",
        "  "
      ]
    },
    {
      "cell_type": "code",
      "metadata": {
        "id": "keg8HJzyCqxj",
        "colab_type": "code",
        "colab": {
          "base_uri": "https://localhost:8080/",
          "height": 335
        },
        "outputId": "81da1768-f1bf-43af-f21a-8bb6a4f1a359"
      },
      "source": [
        "model.summary()"
      ],
      "execution_count": 3,
      "outputs": [
        {
          "output_type": "stream",
          "text": [
            "_________________________________________________________________\n",
            "Layer (type)                 Output Shape              Param #   \n",
            "=================================================================\n",
            "conv2d_1 (Conv2D)            (None, 26, 26, 32)        320       \n",
            "_________________________________________________________________\n",
            "max_pooling2d_1 (MaxPooling2 (None, 13, 13, 32)        0         \n",
            "_________________________________________________________________\n",
            "conv2d_2 (Conv2D)            (None, 11, 11, 64)        18496     \n",
            "_________________________________________________________________\n",
            "max_pooling2d_2 (MaxPooling2 (None, 5, 5, 64)          0         \n",
            "_________________________________________________________________\n",
            "conv2d_3 (Conv2D)            (None, 3, 3, 64)          36928     \n",
            "=================================================================\n",
            "Total params: 55,744\n",
            "Trainable params: 55,744\n",
            "Non-trainable params: 0\n",
            "_________________________________________________________________\n"
          ],
          "name": "stdout"
        }
      ]
    },
    {
      "cell_type": "code",
      "metadata": {
        "id": "sLZgq85AC2WE",
        "colab_type": "code",
        "colab": {}
      },
      "source": [
        "model.add(layers.Flatten())\n",
        "model.add(layers.Dense(64, activation = 'relu'))\n",
        "model.add(layers.Dense(10, activation = 'softmax'))\n"
      ],
      "execution_count": 0,
      "outputs": []
    },
    {
      "cell_type": "markdown",
      "metadata": {
        "id": "63RDBkbfdMRE",
        "colab_type": "text"
      },
      "source": [
        "## Flatten\n",
        " 영상과 같은 데이터를 1차원으로 바꿔주는 역할을 한다.\n",
        " \n",
        " ## ReLU\n",
        " 주로 은닉층에서 사용되는 활성화 함수이다\n",
        " \n",
        " ## Softmax\n",
        " 다중 클래스 분류 문제에서 출력층에 주로 쓰인다."
      ]
    },
    {
      "cell_type": "code",
      "metadata": {
        "id": "u6cudfxkDB_b",
        "colab_type": "code",
        "colab": {
          "base_uri": "https://localhost:8080/",
          "height": 447
        },
        "outputId": "0087b656-5af6-4da4-f88a-40bed758b7ba"
      },
      "source": [
        "model.summary()"
      ],
      "execution_count": 5,
      "outputs": [
        {
          "output_type": "stream",
          "text": [
            "_________________________________________________________________\n",
            "Layer (type)                 Output Shape              Param #   \n",
            "=================================================================\n",
            "conv2d_1 (Conv2D)            (None, 26, 26, 32)        320       \n",
            "_________________________________________________________________\n",
            "max_pooling2d_1 (MaxPooling2 (None, 13, 13, 32)        0         \n",
            "_________________________________________________________________\n",
            "conv2d_2 (Conv2D)            (None, 11, 11, 64)        18496     \n",
            "_________________________________________________________________\n",
            "max_pooling2d_2 (MaxPooling2 (None, 5, 5, 64)          0         \n",
            "_________________________________________________________________\n",
            "conv2d_3 (Conv2D)            (None, 3, 3, 64)          36928     \n",
            "_________________________________________________________________\n",
            "flatten_1 (Flatten)          (None, 576)               0         \n",
            "_________________________________________________________________\n",
            "dense_1 (Dense)              (None, 64)                36928     \n",
            "_________________________________________________________________\n",
            "dense_2 (Dense)              (None, 10)                650       \n",
            "=================================================================\n",
            "Total params: 93,322\n",
            "Trainable params: 93,322\n",
            "Non-trainable params: 0\n",
            "_________________________________________________________________\n"
          ],
          "name": "stdout"
        }
      ]
    },
    {
      "cell_type": "code",
      "metadata": {
        "id": "IUy16ItUDD5n",
        "colab_type": "code",
        "colab": {}
      },
      "source": [
        "from keras.datasets import mnist\n",
        "from keras.utils import to_categorical\n",
        "\n",
        "(train_images, train_labels), (test_images, test_labels) = mnist.load_data()\n",
        "\n",
        "train_images = train_images.reshape((60000, 28, 28, 1))\n",
        "train_images = train_images.astype('float32') / 255\n",
        "\n",
        "test_images = test_images.reshape((10000, 28, 28, 1))\n",
        "test_images = test_images.astype('float32') / 255\n",
        "\n",
        "train_labels = to_categorical(train_labels)\n",
        "test_labels = to_categorical(test_labels)"
      ],
      "execution_count": 0,
      "outputs": []
    },
    {
      "cell_type": "code",
      "metadata": {
        "id": "rkg_KyKfDeeA",
        "colab_type": "code",
        "colab": {
          "base_uri": "https://localhost:8080/",
          "height": 411
        },
        "outputId": "395be258-64fc-40a4-8603-d7dc8ded062c"
      },
      "source": [
        "model.compile(optimizer = 'rmsprop', loss = 'categorical_crossentropy', metrics=['accuracy'])\n",
        "\n",
        "model.fit(train_images, train_labels, epochs = 5, batch_size = 64)"
      ],
      "execution_count": 10,
      "outputs": [
        {
          "output_type": "stream",
          "text": [
            "W0810 15:06:49.738392 139813045577600 deprecation_wrapper.py:119] From /usr/local/lib/python3.6/dist-packages/keras/optimizers.py:790: The name tf.train.Optimizer is deprecated. Please use tf.compat.v1.train.Optimizer instead.\n",
            "\n",
            "W0810 15:06:49.773926 139813045577600 deprecation_wrapper.py:119] From /usr/local/lib/python3.6/dist-packages/keras/backend/tensorflow_backend.py:3295: The name tf.log is deprecated. Please use tf.math.log instead.\n",
            "\n",
            "W0810 15:06:49.877911 139813045577600 deprecation.py:323] From /usr/local/lib/python3.6/dist-packages/tensorflow/python/ops/math_grad.py:1250: add_dispatch_support.<locals>.wrapper (from tensorflow.python.ops.array_ops) is deprecated and will be removed in a future version.\n",
            "Instructions for updating:\n",
            "Use tf.where in 2.0, which has the same broadcast rule as np.where\n",
            "W0810 15:06:49.993657 139813045577600 deprecation_wrapper.py:119] From /usr/local/lib/python3.6/dist-packages/keras/backend/tensorflow_backend.py:986: The name tf.assign_add is deprecated. Please use tf.compat.v1.assign_add instead.\n",
            "\n"
          ],
          "name": "stderr"
        },
        {
          "output_type": "stream",
          "text": [
            "Epoch 1/5\n",
            "60000/60000 [==============================] - 55s 919us/step - loss: 0.1819 - acc: 0.9422\n",
            "Epoch 2/5\n",
            "60000/60000 [==============================] - 55s 913us/step - loss: 0.0509 - acc: 0.9845\n",
            "Epoch 3/5\n",
            "60000/60000 [==============================] - 55s 914us/step - loss: 0.0341 - acc: 0.9897\n",
            "Epoch 4/5\n",
            "60000/60000 [==============================] - 55s 911us/step - loss: 0.0254 - acc: 0.9923\n",
            "Epoch 5/5\n",
            "60000/60000 [==============================] - 56s 927us/step - loss: 0.0217 - acc: 0.9936\n"
          ],
          "name": "stdout"
        },
        {
          "output_type": "execute_result",
          "data": {
            "text/plain": [
              "<keras.callbacks.History at 0x7f2888f54c88>"
            ]
          },
          "metadata": {
            "tags": []
          },
          "execution_count": 10
        }
      ]
    },
    {
      "cell_type": "code",
      "metadata": {
        "id": "WKQWpUEyESTD",
        "colab_type": "code",
        "colab": {
          "base_uri": "https://localhost:8080/",
          "height": 55
        },
        "outputId": "fb29cfe7-4485-4970-883d-50942a2113ca"
      },
      "source": [
        "test_loss, test_acc = model.evaluate(test_images, test_labels)\n",
        "\n",
        "test_acc\n"
      ],
      "execution_count": 11,
      "outputs": [
        {
          "output_type": "stream",
          "text": [
            "10000/10000 [==============================] - 3s 274us/step\n"
          ],
          "name": "stdout"
        },
        {
          "output_type": "execute_result",
          "data": {
            "text/plain": [
              "0.99"
            ]
          },
          "metadata": {
            "tags": []
          },
          "execution_count": 11
        }
      ]
    },
    {
      "cell_type": "code",
      "metadata": {
        "id": "SRJH8U_YGfPE",
        "colab_type": "code",
        "colab": {}
      },
      "source": [
        ""
      ],
      "execution_count": 0,
      "outputs": []
    }
  ]
}